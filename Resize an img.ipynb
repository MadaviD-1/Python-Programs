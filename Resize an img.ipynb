{
  "nbformat": 4,
  "nbformat_minor": 0,
  "metadata": {
    "colab": {
      "name": "Untitled0.ipynb",
      "provenance": [],
      "authorship_tag": "ABX9TyNjcTfSHHOILEvP8fx6c2KS",
      "include_colab_link": true
    },
    "kernelspec": {
      "name": "python3",
      "display_name": "Python 3"
    },
    "language_info": {
      "name": "python"
    }
  },
  "cells": [
    {
      "cell_type": "markdown",
      "metadata": {
        "id": "view-in-github",
        "colab_type": "text"
      },
      "source": [
        "<a href=\"https://colab.research.google.com/github/MadaviD-1/Python-Programs/blob/main/Resize%20an%20img.ipynb\" target=\"_parent\"><img src=\"https://colab.research.google.com/assets/colab-badge.svg\" alt=\"Open In Colab\"/></a>"
      ]
    },
    {
      "cell_type": "code",
      "execution_count": null,
      "metadata": {
        "id": "rECXowatoRBC"
      },
      "outputs": [],
      "source": [
        "import cv2\n",
        "import imutils\n",
        "img=cv2.imread(\"1.jpg\")\n",
        "resizeImg=imutils.resize(img,width=10)\n",
        "cv2.imwrite(\"resizeImage.jpg\",resizeImg)"
      ]
    },
    {
      "cell_type": "code",
      "source": [
        ""
      ],
      "metadata": {
        "id": "5V8fp3VX4vBT"
      },
      "execution_count": null,
      "outputs": []
    }
  ]
}